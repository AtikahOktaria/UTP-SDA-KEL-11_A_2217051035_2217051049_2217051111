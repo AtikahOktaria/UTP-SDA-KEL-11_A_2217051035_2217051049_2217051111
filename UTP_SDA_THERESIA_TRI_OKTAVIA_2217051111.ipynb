{
  "nbformat": 4,
  "nbformat_minor": 0,
  "metadata": {
    "colab": {
      "provenance": []
    },
    "kernelspec": {
      "name": "python3",
      "display_name": "Python 3"
    },
    "language_info": {
      "name": "python"
    }
  },
  "cells": [
    {
      "cell_type": "markdown",
      "source": [
        "#UTP SDA"
      ],
      "metadata": {
        "id": "edkGCkAy-fpL"
      }
    },
    {
      "cell_type": "code",
      "source": [
        " jenis_barang = int(input(\"Masukkan produk yang ingin dibeli (1-7)  : \"))\n",
        "  if jenis_barang > 7:\n",
        "      print(\"Barang Tidak Tersedia\")"
      ],
      "metadata": {
        "id": "aQejevza-v8G"
      },
      "execution_count": null,
      "outputs": []
    },
    {
      "cell_type": "code",
      "execution_count": null,
      "metadata": {
        "id": "L3VUYoMT-Fv_"
      },
      "outputs": [],
      "source": [
        " print('=' * 50)\n",
        "      print(\" \"\" \")\n",
        "      print('=' * 50)\n",
        "      saldo = int(input(\"Saldo Anda\\t\\t: Rp. \"))\n",
        "      if saldo >= total_pesanan :\n",
        "          print(\"Kembalian\\t\\t: Rp.\", saldo - total_pesanan)\n",
        "          print('=' * 50)\n",
        "      while saldo < total_pesanan:\n",
        "          print('=' * 50)\n",
        "          print(\"\\n\\t     Saldo Anda tidak cukup!\\t\\t \")\n",
        "          print('=' * 50)\n",
        "          print(\"Silahkan melakukan pembayaran ulang!\")\n",
        "          saldo = int(input(\"Uang Anda\\t\\t: Rp. \"))\n",
        "          if saldo >= total_pesanan :\n",
        "              print(\"Kembalian\\t\\t: Rp.\", saldo - total_pesanan)\n",
        "              print('=' * 50)\n",
        "    "
      ]
    }
  ]
}