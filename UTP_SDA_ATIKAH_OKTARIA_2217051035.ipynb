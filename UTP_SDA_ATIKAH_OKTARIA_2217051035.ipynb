{
  "nbformat": 4,
  "nbformat_minor": 0,
  "metadata": {
    "colab": {
      "provenance": []
    },
    "kernelspec": {
      "name": "python3",
      "display_name": "Python 3"
    },
    "language_info": {
      "name": "python"
    }
  },
  "cells": [
    {
      "cell_type": "code",
      "execution_count": null,
      "metadata": {
        "id": "lnxhL6hl7lt5"
      },
      "outputs": [],
      "source": [
        "barang = [\"Pensil\\t\", \"Pena\\t\", \"Spidol\\t\", \"Penghapus\\t\", \"Correction Tape\", \"Penggaris\\t\", \"Buku\\t\"]\n",
        "harga = [2000, 2500, 4000, 2000, 8000, 8000, 5000]\n",
        "\n",
        "def pemesanan():\n",
        "  #DIBAGIAN KOSONG INI NAZWA YANG NGERJAIN\n",
        "  for i in range(7) :\n",
        "    print(\"|\",i+1, barang[i], \"\\t|Rp.\", harga[i],\"|\")\n",
        "  #DIBAGIAN KOSONG INI NAZWA YANG NGERJAIN\n",
        "\n",
        "  jenis_barang = int(input(\"Masukkan produk yang ingin dibeli (1-7)  : \"))\n",
        "  #DIBAGIAN KOSONG INI VIA YANG NGERJAIN\n",
        "      pesanan_barang = barang[jenis_barang-1]\n",
        "      pesanan_harga = harga[jenis_barang-1]\n",
        "      quantity = int(input(\"Masukkan jumlah produk yang ingin dibeli : \"))\n",
        "      total_pesanan = (quantity * pesanan_harga)\n",
        "      os.system(\"cls\")\n",
        "\n",
        "      print(\" \"\" \")\n",
        "      print('=' * 50)\n",
        "      print(\"|\\t   BERIKUT RINCIAN PESANAN ANDA\\t\\t |\")\n",
        "      print('=' * 50)\n",
        "      print(\"Barang \\t\\t:\", pesanan_barang)\n",
        "      print('-' * 50)\n",
        "      print(\"Jumlah \\t\\t:\", quantity)\n",
        "      print('-' * 50)\n",
        "      print(\"Total harga\\t: Rp.\", total_pesanan)\n",
        "      ##DIBAGIAN KOSONG INI VIA YANG NGERJAIN\n",
        "    \n",
        "\n",
        "class customer :\n",
        "  def __init__(self) :\n",
        "    self.nama = input(\"Masukkan nama Anda \\t: \")\n",
        "    self.nomor_hp = input(\"Masukkan no hp Anda \\t: \")\n",
        "    self.alamat = input(\"Masukkan alamat Anda \\t: \")\n",
        "\n",
        "  def display_cust(self) :\n",
        "    print('=' * 100)\n",
        "    print(\"\\t\\t\\t\\t Terima kasih\", self.nama, \"atas pesanan Anda\")\n",
        "    print(\"\\t\\t Kami akan segera mengemas lalu mengirim pesanan Anda ke alamat\", self.alamat)\n",
        "    print(\"\\t Apabila ada kendala dalam pesanan Anda, kami akan menghubungi nomor hp Anda\", self.nomor_hp)\n",
        "    print('=' * 100)\n",
        "\n",
        "\n",
        "#DIBAGIAN KOSONG INI NAZWA YANG NGERJAIN\n",
        "\n",
        " "
      ]
    }
  ]
}