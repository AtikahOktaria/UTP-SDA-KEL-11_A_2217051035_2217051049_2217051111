{
  "nbformat": 4,
  "nbformat_minor": 0,
  "metadata": {
    "colab": {
      "provenance": []
    },
    "kernelspec": {
      "name": "python3",
      "display_name": "Python 3"
    },
    "language_info": {
      "name": "python"
    }
  },
  "cells": [
    {
      "cell_type": "code",
      "execution_count": null,
      "metadata": {
        "id": "VvJcFGb89HvK"
      },
      "outputs": [],
      "source": [
        "#dibagian kosong ini Atikah\n",
        "print(\"-----------------------------------\")\n",
        "print(\"|   PRODUK-PRODUK YANG TERSEDIA   |\")\n",
        "print(\"-----------------------------------\")\n",
        "#bagian atikah\n",
        "print(\"-----------------------------------\")\n",
        "#bagian Atikah\n",
        "#bagian Via\n",
        "#bagian Atikah\n",
        "#bagian Via\n",
        "#bagian Atikah\n",
        "print(\"    <============================================================================>\")\n",
        "print(\"  <====================| SELAMAT DATANG DI ATK ONLINE JAYA |=======================>\")\n",
        "print(\"<======================|    JL ABCDEFGHIJKLMN, NOMOR 000   |==========================>\")\n",
        "print(\"  <====================|        WA: 081213141516           |=======================>\")\n",
        "print(\"    <============================================================================>\\n\")\n",
        "print(\"Mohon isi data diri singkat dibawah ini\")\n",
        "info = customer()\n",
        "os.system(\"cls\")\n",
        "while True :\n",
        "  pemesanan()\n",
        "  pesan_lagi=input(\"\\nApakah Anda ingin memesan lagi? (Y/T) : \")\n",
        "  os.system(\"cls\")\n",
        "  if pesan_lagi != 'Y' :\n",
        "    break\n",
        "info.display_cust()\n"
      ]
    }
  ]
}